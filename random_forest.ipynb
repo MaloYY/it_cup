{
 "cells": [
  {
   "cell_type": "code",
   "execution_count": 1,
   "metadata": {},
   "outputs": [],
   "source": [
    "import pandas as pd\n",
    "import numpy as np\n",
    "from pathlib import Path\n",
    "from sklearn.model_selection import GridSearchCV, StratifiedKFold\n",
    "from sklearn.model_selection import train_test_split\n",
    "from sklearn.impute import SimpleImputer\n",
    "from utils import save_config\n",
    "\n",
    "pd.set_option('display.max_rows', 150)\n",
    "ID = 1"
   ]
  },
  {
   "cell_type": "code",
   "execution_count": 2,
   "metadata": {},
   "outputs": [],
   "source": [
    "rand_seed = 42"
   ]
  },
  {
   "cell_type": "code",
   "execution_count": 3,
   "metadata": {},
   "outputs": [
    {
     "data": {
      "text/plain": [
       "WindowsPath('C:/Users/pavel/OneDrive/Desktop/it_cup')"
      ]
     },
     "execution_count": 3,
     "metadata": {},
     "output_type": "execute_result"
    }
   ],
   "source": [
    "prj_folder = Path('.').resolve()\n",
    "prj_folder"
   ]
  },
  {
   "cell_type": "code",
   "execution_count": 4,
   "metadata": {},
   "outputs": [],
   "source": [
    "data = pd.read_csv(prj_folder/'2. Cup_IT_2022_Датасет_Data_Science.csv')"
   ]
  },
  {
   "cell_type": "code",
   "execution_count": 5,
   "metadata": {},
   "outputs": [],
   "source": [
    "X = data.iloc[:, 2:]\n",
    "y = data.iloc[:, 1]\n",
    "\n",
    "X = SimpleImputer(missing_values=np.nan, strategy='mean').fit_transform(X)\n",
    "\n",
    "X_train, X_val, y_train, y_val = train_test_split(X, y, shuffle=False, train_size=0.3, random_state=42)"
   ]
  },
  {
   "cell_type": "code",
   "execution_count": 6,
   "metadata": {},
   "outputs": [
    {
     "name": "stderr",
     "output_type": "stream",
     "text": [
      "C:\\Users\\pavel\\AppData\\Local\\Packages\\PythonSoftwareFoundation.Python.3.9_qbz5n2kfra8p0\\LocalCache\\local-packages\\Python39\\site-packages\\sklearn\\metrics\\_classification.py:1308: UndefinedMetricWarning: Precision is ill-defined and being set to 0.0 due to no predicted samples. Use `zero_division` parameter to control this behavior.\n",
      "  _warn_prf(average, modifier, msg_start, len(result))\n"
     ]
    },
    {
     "data": {
      "text/plain": [
       "0.0"
      ]
     },
     "execution_count": 6,
     "metadata": {},
     "output_type": "execute_result"
    }
   ],
   "source": [
    "from sklearn.metrics import accuracy_score, f1_score, roc_auc_score, confusion_matrix, recall_score, precision_score\n",
    "precision_score(y, np.zeros_like(y))"
   ]
  },
  {
   "cell_type": "code",
   "execution_count": 7,
   "metadata": {},
   "outputs": [],
   "source": [
    "rf_config = {\n",
    "    #'n_estimators': [200, 500],\n",
    "    #'max_features': ['auto', 'sqrt', 'log2'],\n",
    "    #'max_depth' : [4,5,6,7,8],\n",
    "    #'criterion' :['gini', 'entropy'],\n",
    "    'class_weight': [{0: 0.09, 1: 0.91}]\n",
    "}\n",
    "\n",
    "gb_config = {\n",
    "    'learning_rate': [0.1],\n",
    "    'n_estimators': [200]\n",
    "}\n",
    "\n",
    "scoring = ['accuracy', 'f1', 'roc_auc', 'precision', 'recall']"
   ]
  },
  {
   "cell_type": "code",
   "execution_count": 8,
   "metadata": {},
   "outputs": [],
   "source": [
    "from sklearn.ensemble import RandomForestClassifier, GradientBoostingClassifier\n",
    "\n",
    "clf = RandomForestClassifier(random_state=rand_seed, n_jobs=8)\n",
    "#clf = GradientBoostingClassifier(random_state=rand_seed)"
   ]
  },
  {
   "cell_type": "code",
   "execution_count": 9,
   "metadata": {},
   "outputs": [],
   "source": [
    "CUR_CONFIG = rf_config\n",
    "\n",
    "save_config(ID, CUR_CONFIG, clf)\n",
    "ID += 1\n",
    "\n",
    "cv = StratifiedKFold(n_splits=3, shuffle=True, random_state=rand_seed)\n",
    "validator = GridSearchCV(clf, param_grid=CUR_CONFIG, scoring=scoring, n_jobs=4, cv=cv, refit='f1', verbose=2)"
   ]
  },
  {
   "cell_type": "code",
   "execution_count": 10,
   "metadata": {},
   "outputs": [
    {
     "name": "stdout",
     "output_type": "stream",
     "text": [
      "Fitting 3 folds for each of 1 candidates, totalling 3 fits\n"
     ]
    },
    {
     "data": {
      "text/plain": [
       "GridSearchCV(cv=StratifiedKFold(n_splits=3, random_state=42, shuffle=True),\n",
       "             estimator=RandomForestClassifier(n_jobs=8, random_state=42),\n",
       "             n_jobs=4, param_grid={'class_weight': [{0: 0.09, 1: 0.91}]},\n",
       "             refit='f1',\n",
       "             scoring=['accuracy', 'f1', 'roc_auc', 'precision', 'recall'],\n",
       "             verbose=2)"
      ]
     },
     "execution_count": 10,
     "metadata": {},
     "output_type": "execute_result"
    }
   ],
   "source": [
    "validator.fit(X_train, y_train)"
   ]
  },
  {
   "cell_type": "code",
   "execution_count": 11,
   "metadata": {},
   "outputs": [
    {
     "name": "stdout",
     "output_type": "stream",
     "text": [
      "RandomForestClassifier(class_weight={0: 0.09, 1: 0.91}, n_jobs=8,\n",
      "                       random_state=42)\n",
      "{'class_weight': {0: 0.09, 1: 0.91}}\n",
      "0.008910703284189306\n",
      "{'mean_fit_time': array([14.9789416]), 'std_fit_time': array([0.17603397]), 'mean_score_time': array([0.36668706]), 'std_score_time': array([0.01846776]), 'param_class_weight': masked_array(data=[{0: 0.09, 1: 0.91}],\n",
      "             mask=[False],\n",
      "       fill_value='?',\n",
      "            dtype=object), 'params': [{'class_weight': {0: 0.09, 1: 0.91}}], 'split0_test_accuracy': array([0.87390789]), 'split1_test_accuracy': array([0.87346365]), 'split2_test_accuracy': array([0.87383385]), 'mean_test_accuracy': array([0.87373513]), 'std_test_accuracy': array([0.00019433]), 'rank_test_accuracy': array([1]), 'split0_test_f1': array([0.00930774]), 'split1_test_f1': array([0.00927536]), 'split2_test_f1': array([0.00814901]), 'mean_test_f1': array([0.0089107]), 'std_test_f1': array([0.00053876]), 'rank_test_f1': array([1]), 'split0_test_roc_auc': array([0.6760445]), 'split1_test_roc_auc': array([0.67471063]), 'split2_test_roc_auc': array([0.67483062]), 'mean_test_roc_auc': array([0.67519525]), 'std_test_roc_auc': array([0.00060251]), 'rank_test_roc_auc': array([1]), 'split0_test_precision': array([0.38095238]), 'split1_test_precision': array([0.30769231]), 'split2_test_precision': array([0.36842105]), 'mean_test_precision': array([0.35235525]), 'std_test_precision': array([0.03199315]), 'rank_test_precision': array([1]), 'split0_test_recall': array([0.00471143]), 'split1_test_recall': array([0.00470865]), 'split2_test_recall': array([0.00412007]), 'mean_test_recall': array([0.00451338]), 'std_test_recall': array([0.00027812]), 'rank_test_recall': array([1])}\n"
     ]
    }
   ],
   "source": [
    "print(validator.best_estimator_)\n",
    "print(validator.best_params_)\n",
    "print(validator.best_score_)\n",
    "print(validator.cv_results_)\n"
   ]
  },
  {
   "cell_type": "code",
   "execution_count": 12,
   "metadata": {},
   "outputs": [
    {
     "name": "stdout",
     "output_type": "stream",
     "text": [
      "m_acc:     [0.87373513]\n",
      "m_f1:      [0.0089107]\n",
      "m_rauc:    [0.67519525]\n",
      "m_prec:    [0.35235525]\n",
      "m_recall:  [0.00451338]\n"
     ]
    }
   ],
   "source": [
    "from utils import fine_print\n",
    "fine_print(validator.cv_results_)"
   ]
  },
  {
   "cell_type": "code",
   "execution_count": 13,
   "metadata": {},
   "outputs": [
    {
     "data": {
      "text/plain": [
       "array([[87160,    61],\n",
       "       [ 7290,    32]], dtype=int64)"
      ]
     },
     "execution_count": 13,
     "metadata": {},
     "output_type": "execute_result"
    }
   ],
   "source": [
    "from sklearn.metrics import confusion_matrix\n",
    "preds = validator.predict(X_val)\n",
    "confusion_matrix(y_val, preds)"
   ]
  },
  {
   "cell_type": "code",
   "execution_count": 16,
   "metadata": {},
   "outputs": [
    {
     "name": "stdout",
     "output_type": "stream",
     "text": [
      "0.9222470198745545\n",
      "0.008631153068105192\n",
      "0.5018355088731031\n",
      "0.34408602150537637\n",
      "0.004370390603660202\n"
     ]
    }
   ],
   "source": [
    "print(accuracy_score(y_val, preds))\n",
    "print(f1_score(y_val, preds))\n",
    "print(roc_auc_score(y_val, preds))\n",
    "print(precision_score(y_val, preds))\n",
    "print(recall_score(y_val, preds))"
   ]
  },
  {
   "cell_type": "code",
   "execution_count": null,
   "metadata": {},
   "outputs": [],
   "source": []
  }
 ],
 "metadata": {
  "interpreter": {
   "hash": "876a901fa01740c9c1df21227f71a722e56ef49b97cfa216a6a824be51df36c9"
  },
  "kernelspec": {
   "display_name": "Python 3.9.10 64-bit (windows store)",
   "language": "python",
   "name": "python3"
  },
  "language_info": {
   "codemirror_mode": {
    "name": "ipython",
    "version": 3
   },
   "file_extension": ".py",
   "mimetype": "text/x-python",
   "name": "python",
   "nbconvert_exporter": "python",
   "pygments_lexer": "ipython3",
   "version": "3.9.10"
  },
  "orig_nbformat": 4
 },
 "nbformat": 4,
 "nbformat_minor": 2
}
