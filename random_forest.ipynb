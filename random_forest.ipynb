{
 "cells": [
  {
   "cell_type": "code",
   "execution_count": 1,
   "metadata": {},
   "outputs": [],
   "source": [
    "import pandas as pd\n",
    "import numpy as np\n",
    "from pathlib import Path\n",
    "from sklearn.model_selection import GridSearchCV, StratifiedKFold\n",
    "from sklearn.model_selection import train_test_split\n",
    "from sklearn.impute import SimpleImputer\n",
    "from utils import save_config\n",
    "\n",
    "pd.set_option('display.max_rows', 150)\n",
    "ID = 1"
   ]
  },
  {
   "cell_type": "code",
   "execution_count": 2,
   "metadata": {},
   "outputs": [],
   "source": [
    "rand_seed = 42"
   ]
  },
  {
   "cell_type": "code",
   "execution_count": 3,
   "metadata": {},
   "outputs": [
    {
     "data": {
      "text/plain": [
       "WindowsPath('C:/Users/pavel/OneDrive/Desktop/it_cup')"
      ]
     },
     "execution_count": 3,
     "metadata": {},
     "output_type": "execute_result"
    }
   ],
   "source": [
    "prj_folder = Path('.').resolve()\n",
    "prj_folder"
   ]
  },
  {
   "cell_type": "code",
   "execution_count": 4,
   "metadata": {},
   "outputs": [],
   "source": [
    "data = pd.read_csv(prj_folder/'2. Cup_IT_2022_Датасет_Data_Science.csv')"
   ]
  },
  {
   "cell_type": "code",
   "execution_count": 5,
   "metadata": {},
   "outputs": [],
   "source": [
    "num_nans = data.isna().sum()\n",
    "num_total = data.shape[0]\n",
    "skip_rate = (num_nans / num_total * 100).sort_values(ascending=True)\n",
    "keys = skip_rate[skip_rate < 50].keys()"
   ]
  },
  {
   "cell_type": "code",
   "execution_count": 6,
   "metadata": {},
   "outputs": [],
   "source": [
    "data = data[keys]"
   ]
  },
  {
   "cell_type": "code",
   "execution_count": 7,
   "metadata": {},
   "outputs": [],
   "source": [
    "X = data.iloc[:, 2:]\n",
    "y = data.iloc[:, 1]\n",
    "\n",
    "X = SimpleImputer(missing_values=np.nan, strategy='mean').fit_transform(X)\n",
    "\n",
    "X_train, X_val, y_train, y_val = train_test_split(X, y, shuffle=False, train_size=0.7, random_state=42)"
   ]
  },
  {
   "cell_type": "code",
   "execution_count": 8,
   "metadata": {},
   "outputs": [
    {
     "name": "stderr",
     "output_type": "stream",
     "text": [
      "C:\\Users\\pavel\\AppData\\Local\\Packages\\PythonSoftwareFoundation.Python.3.9_qbz5n2kfra8p0\\LocalCache\\local-packages\\Python39\\site-packages\\sklearn\\metrics\\_classification.py:1308: UndefinedMetricWarning: Precision is ill-defined and being set to 0.0 due to no predicted samples. Use `zero_division` parameter to control this behavior.\n",
      "  _warn_prf(average, modifier, msg_start, len(result))\n"
     ]
    },
    {
     "data": {
      "text/plain": [
       "0.0"
      ]
     },
     "execution_count": 8,
     "metadata": {},
     "output_type": "execute_result"
    }
   ],
   "source": [
    "from sklearn.metrics import accuracy_score, f1_score, roc_auc_score, confusion_matrix, recall_score, precision_score\n",
    "precision_score(y, np.zeros_like(y))"
   ]
  },
  {
   "cell_type": "code",
   "execution_count": 55,
   "metadata": {},
   "outputs": [],
   "source": [
    "rf_config = {\n",
    "    'n_estimators': [200],\n",
    "    #'max_features': ['auto', 'sqrt', 'log2'],\n",
    "    'min_samples_leaf': [1, 2],\n",
    "    'min_samples_split': [2, 3],\n",
    "    'max_depth' : [4,6],\n",
    "    'criterion' :['entropy'],\n",
    "    'class_weight': ['balanced']\n",
    "}\n",
    "\n",
    "gb_config = {\n",
    "    'learning_rate': [0.1],\n",
    "    'n_estimators': [200],\n",
    "    'max_depth' : [3, 4, 5],\n",
    "    'subsample': [1, 2]\n",
    "}\n",
    "\n",
    "scoring = ['accuracy', 'f1', 'roc_auc', 'precision', 'recall']"
   ]
  },
  {
   "cell_type": "code",
   "execution_count": 56,
   "metadata": {},
   "outputs": [],
   "source": [
    "from sklearn.ensemble import RandomForestClassifier, GradientBoostingClassifier\n",
    "\n",
    "#clf = RandomForestClassifier(random_state=rand_seed, n_jobs=8)\n",
    "clf = GradientBoostingClassifier(random_state=rand_seed)"
   ]
  },
  {
   "cell_type": "code",
   "execution_count": 57,
   "metadata": {},
   "outputs": [],
   "source": [
    "CUR_CONFIG = gb_config\n",
    "\n",
    "save_config(ID, CUR_CONFIG, clf)\n",
    "ID += 1\n",
    "\n",
    "cv = StratifiedKFold(n_splits=3, shuffle=True, random_state=rand_seed)\n",
    "validator = GridSearchCV(clf, param_grid=CUR_CONFIG, scoring=scoring, n_jobs=4, cv=cv, refit='f1', verbose=2)"
   ]
  },
  {
   "cell_type": "code",
   "execution_count": 58,
   "metadata": {},
   "outputs": [
    {
     "name": "stdout",
     "output_type": "stream",
     "text": [
      "Fitting 3 folds for each of 6 candidates, totalling 18 fits\n"
     ]
    },
    {
     "name": "stderr",
     "output_type": "stream",
     "text": [
      "C:\\Users\\pavel\\AppData\\Local\\Packages\\PythonSoftwareFoundation.Python.3.9_qbz5n2kfra8p0\\LocalCache\\local-packages\\Python39\\site-packages\\sklearn\\model_selection\\_validation.py:372: FitFailedWarning: \n",
      "9 fits failed out of a total of 18.\n",
      "The score on these train-test partitions for these parameters will be set to nan.\n",
      "If these failures are not expected, you can try to debug them by setting error_score='raise'.\n",
      "\n",
      "Below are more details about the failures:\n",
      "--------------------------------------------------------------------------------\n",
      "9 fits failed with the following error:\n",
      "Traceback (most recent call last):\n",
      "  File \"C:\\Users\\pavel\\AppData\\Local\\Packages\\PythonSoftwareFoundation.Python.3.9_qbz5n2kfra8p0\\LocalCache\\local-packages\\Python39\\site-packages\\sklearn\\model_selection\\_validation.py\", line 681, in _fit_and_score\n",
      "    estimator.fit(X_train, y_train, **fit_params)\n",
      "  File \"C:\\Users\\pavel\\AppData\\Local\\Packages\\PythonSoftwareFoundation.Python.3.9_qbz5n2kfra8p0\\LocalCache\\local-packages\\Python39\\site-packages\\sklearn\\ensemble\\_gb.py\", line 525, in fit\n",
      "    self._check_params()\n",
      "  File \"C:\\Users\\pavel\\AppData\\Local\\Packages\\PythonSoftwareFoundation.Python.3.9_qbz5n2kfra8p0\\LocalCache\\local-packages\\Python39\\site-packages\\sklearn\\ensemble\\_gb.py\", line 317, in _check_params\n",
      "    raise ValueError(\"subsample must be in (0,1] but was %r\" % self.subsample)\n",
      "ValueError: subsample must be in (0,1] but was 2\n",
      "\n",
      "  warnings.warn(some_fits_failed_message, FitFailedWarning)\n",
      "C:\\Users\\pavel\\AppData\\Local\\Packages\\PythonSoftwareFoundation.Python.3.9_qbz5n2kfra8p0\\LocalCache\\local-packages\\Python39\\site-packages\\sklearn\\model_selection\\_search.py:969: UserWarning: One or more of the test scores are non-finite: [0.87390789        nan 0.8721309         nan 0.87126709        nan]\n",
      "  warnings.warn(\n",
      "C:\\Users\\pavel\\AppData\\Local\\Packages\\PythonSoftwareFoundation.Python.3.9_qbz5n2kfra8p0\\LocalCache\\local-packages\\Python39\\site-packages\\sklearn\\model_selection\\_search.py:969: UserWarning: One or more of the test scores are non-finite: [0.04234776        nan 0.05610337        nan 0.07611885        nan]\n",
      "  warnings.warn(\n",
      "C:\\Users\\pavel\\AppData\\Local\\Packages\\PythonSoftwareFoundation.Python.3.9_qbz5n2kfra8p0\\LocalCache\\local-packages\\Python39\\site-packages\\sklearn\\model_selection\\_search.py:969: UserWarning: One or more of the test scores are non-finite: [0.70392533        nan 0.69856649        nan 0.69568897        nan]\n",
      "  warnings.warn(\n",
      "C:\\Users\\pavel\\AppData\\Local\\Packages\\PythonSoftwareFoundation.Python.3.9_qbz5n2kfra8p0\\LocalCache\\local-packages\\Python39\\site-packages\\sklearn\\model_selection\\_search.py:969: UserWarning: One or more of the test scores are non-finite: [0.47226879        nan 0.39291448        nan 0.39003742        nan]\n",
      "  warnings.warn(\n",
      "C:\\Users\\pavel\\AppData\\Local\\Packages\\PythonSoftwareFoundation.Python.3.9_qbz5n2kfra8p0\\LocalCache\\local-packages\\Python39\\site-packages\\sklearn\\model_selection\\_search.py:969: UserWarning: One or more of the test scores are non-finite: [0.02217395        nan 0.03021951        nan 0.04219011        nan]\n",
      "  warnings.warn(\n"
     ]
    },
    {
     "data": {
      "text/plain": [
       "GridSearchCV(cv=StratifiedKFold(n_splits=3, random_state=42, shuffle=True),\n",
       "             estimator=GradientBoostingClassifier(random_state=42), n_jobs=4,\n",
       "             param_grid={'learning_rate': [0.1], 'max_depth': [3, 4, 5],\n",
       "                         'n_estimators': [200], 'subsample': [1, 2]},\n",
       "             refit='f1',\n",
       "             scoring=['accuracy', 'f1', 'roc_auc', 'precision', 'recall'],\n",
       "             verbose=2)"
      ]
     },
     "execution_count": 58,
     "metadata": {},
     "output_type": "execute_result"
    }
   ],
   "source": [
    "validator.fit(X_train, y_train)"
   ]
  },
  {
   "cell_type": "code",
   "execution_count": 59,
   "metadata": {},
   "outputs": [
    {
     "name": "stdout",
     "output_type": "stream",
     "text": [
      "GradientBoostingClassifier(max_depth=5, n_estimators=200, random_state=42,\n",
      "                           subsample=1)\n",
      "{'learning_rate': 0.1, 'max_depth': 5, 'n_estimators': 200, 'subsample': 1}\n",
      "0.07611885235833338\n",
      "{'mean_fit_time': array([8.33274900e+01, 2.62612502e-02, 1.11724215e+02, 2.85893281e-02,\n",
      "       1.19413350e+02, 3.05844943e-02]), 'std_fit_time': array([4.56417328e-02, 4.97611088e-03, 9.61962142e-01, 1.69512369e-03,\n",
      "       1.83467596e+01, 1.69560688e-03]), 'mean_score_time': array([0.12932086, 0.        , 0.14693952, 0.        , 0.12299863,\n",
      "       0.        ]), 'std_score_time': array([0.00448657, 0.        , 0.00124273, 0.        , 0.01969008,\n",
      "       0.        ]), 'param_learning_rate': masked_array(data=[0.1, 0.1, 0.1, 0.1, 0.1, 0.1],\n",
      "             mask=[False, False, False, False, False, False],\n",
      "       fill_value='?',\n",
      "            dtype=object), 'param_max_depth': masked_array(data=[3, 3, 4, 4, 5, 5],\n",
      "             mask=[False, False, False, False, False, False],\n",
      "       fill_value='?',\n",
      "            dtype=object), 'param_n_estimators': masked_array(data=[200, 200, 200, 200, 200, 200],\n",
      "             mask=[False, False, False, False, False, False],\n",
      "       fill_value='?',\n",
      "            dtype=object), 'param_subsample': masked_array(data=[1, 2, 1, 2, 1, 2],\n",
      "             mask=[False, False, False, False, False, False],\n",
      "       fill_value='?',\n",
      "            dtype=object), 'params': [{'learning_rate': 0.1, 'max_depth': 3, 'n_estimators': 200, 'subsample': 1}, {'learning_rate': 0.1, 'max_depth': 3, 'n_estimators': 200, 'subsample': 2}, {'learning_rate': 0.1, 'max_depth': 4, 'n_estimators': 200, 'subsample': 1}, {'learning_rate': 0.1, 'max_depth': 4, 'n_estimators': 200, 'subsample': 2}, {'learning_rate': 0.1, 'max_depth': 5, 'n_estimators': 200, 'subsample': 1}, {'learning_rate': 0.1, 'max_depth': 5, 'n_estimators': 200, 'subsample': 2}], 'split0_test_accuracy': array([0.87405598,        nan, 0.87279728,        nan, 0.8721309 ,\n",
      "              nan]), 'split1_test_accuracy': array([0.87405598,        nan, 0.87190878,        nan, 0.87161262,\n",
      "              nan]), 'split2_test_accuracy': array([0.87361173,        nan, 0.87168666,        nan, 0.87005775,\n",
      "              nan]), 'mean_test_accuracy': array([0.87390789,        nan, 0.8721309 ,        nan, 0.87126709,\n",
      "              nan]), 'std_test_accuracy': array([0.00020942,        nan, 0.00047984,        nan, 0.00088092,\n",
      "              nan]), 'rank_test_accuracy': array([1, 4, 2, 5, 3, 6]), 'split0_test_f1': array([0.03952569,        nan, 0.05396476,        nan, 0.07794981,\n",
      "              nan]), 'split1_test_f1': array([0.04812535,        nan, 0.05875952,        nan, 0.08640674,\n",
      "              nan]), 'split2_test_f1': array([0.03939223,        nan, 0.05558583,        nan, 0.064     ,\n",
      "              nan]), 'mean_test_f1': array([0.04234776,        nan, 0.05610337,        nan, 0.07611885,\n",
      "              nan]), 'std_test_f1': array([0.00408574,        nan, 0.00199137,        nan, 0.00923868,\n",
      "              nan]), 'rank_test_f1': array([3, 4, 2, 5, 1, 6]), 'split0_test_roc_auc': array([0.70672839,        nan, 0.70156889,        nan, 0.6987024 ,\n",
      "              nan]), 'split1_test_roc_auc': array([0.6971349 ,        nan, 0.69523885,        nan, 0.69225985,\n",
      "              nan]), 'split2_test_roc_auc': array([0.7079127 ,        nan, 0.69889172,        nan, 0.69610465,\n",
      "              nan]), 'mean_test_roc_auc': array([0.70392533,        nan, 0.69856649,        nan, 0.69568897,\n",
      "              nan]), 'std_test_roc_auc': array([0.00482584,        nan, 0.00259444,        nan, 0.00264653,\n",
      "              nan]), 'rank_test_roc_auc': array([1, 4, 2, 5, 3, 6]), 'split0_test_precision': array([0.47945205,        nan, 0.41525424,        nan, 0.41714286,\n",
      "              nan]), 'split1_test_precision': array([0.48863636,        nan, 0.38848921,        nan, 0.4120603 ,\n",
      "              nan]), 'split2_test_precision': array([0.44871795,        nan, 0.375     ,        nan, 0.34090909,\n",
      "              nan]), 'mean_test_precision': array([0.47226879,        nan, 0.39291448,        nan, 0.39003742,\n",
      "              nan]), 'std_test_precision': array([0.01706985,        nan, 0.01672898,        nan, 0.03480088,\n",
      "              nan]), 'rank_test_precision': array([1, 4, 2, 5, 3, 6]), 'split0_test_recall': array([0.02061249,        nan, 0.02885748,        nan, 0.04299176,\n",
      "              nan]), 'split1_test_recall': array([0.02530901,        nan, 0.0317834 ,        nan, 0.04826368,\n",
      "              nan]), 'split2_test_recall': array([0.02060035,        nan, 0.03001766,        nan, 0.03531489,\n",
      "              nan]), 'mean_test_recall': array([0.02217395,        nan, 0.03021951,        nan, 0.04219011,\n",
      "              nan]), 'std_test_recall': array([0.00221683,        nan, 0.001203  ,        nan, 0.00531663,\n",
      "              nan]), 'rank_test_recall': array([3, 4, 2, 5, 1, 6])}\n"
     ]
    }
   ],
   "source": [
    "print(validator.best_estimator_)\n",
    "print(validator.best_params_)\n",
    "print(validator.best_score_)\n",
    "print(validator.cv_results_)\n"
   ]
  },
  {
   "cell_type": "code",
   "execution_count": 60,
   "metadata": {},
   "outputs": [
    {
     "name": "stdout",
     "output_type": "stream",
     "text": [
      "m_acc:     [0.87390789        nan 0.8721309         nan 0.87126709        nan]\n",
      "m_f1:      [0.04234776        nan 0.05610337        nan 0.07611885        nan]\n",
      "m_rauc:    [0.70392533        nan 0.69856649        nan 0.69568897        nan]\n",
      "m_prec:    [0.47226879        nan 0.39291448        nan 0.39003742        nan]\n",
      "m_recall:  [0.02217395        nan 0.03021951        nan 0.04219011        nan]\n"
     ]
    }
   ],
   "source": [
    "from utils import fine_print\n",
    "fine_print(validator.cv_results_)"
   ]
  },
  {
   "cell_type": "code",
   "execution_count": 61,
   "metadata": {},
   "outputs": [
    {
     "data": {
      "text/plain": [
       "array([[86675,   546],\n",
       "       [ 7137,   185]], dtype=int64)"
      ]
     },
     "execution_count": 61,
     "metadata": {},
     "output_type": "execute_result"
    }
   ],
   "source": [
    "from sklearn.metrics import confusion_matrix\n",
    "preds = validator.predict(X_val)\n",
    "confusion_matrix(y_val, preds)"
   ]
  },
  {
   "cell_type": "code",
   "execution_count": 62,
   "metadata": {},
   "outputs": [
    {
     "name": "stdout",
     "output_type": "stream",
     "text": [
      "0.9187353902457083\n",
      "0.04594561033155346\n",
      "0.5095031801733781\n",
      "0.253077975376197\n",
      "0.025266320677410543\n"
     ]
    }
   ],
   "source": [
    "print(accuracy_score(y_val, preds))\n",
    "print(f1_score(y_val, preds))\n",
    "print(roc_auc_score(y_val, preds))\n",
    "print(precision_score(y_val, preds))\n",
    "print(recall_score(y_val, preds))"
   ]
  },
  {
   "cell_type": "code",
   "execution_count": 63,
   "metadata": {},
   "outputs": [
    {
     "data": {
      "text/plain": [
       "array([0.01901826, 0.00848535, 0.02401716, 0.00706825, 0.01435461,\n",
       "       0.02734047, 0.01321548, 0.01740449, 0.00858931, 0.0181361 ,\n",
       "       0.00682897, 0.0158498 , 0.01077052, 0.0198339 , 0.00687223,\n",
       "       0.02302185, 0.0134584 , 0.02150689, 0.02152631, 0.01860141,\n",
       "       0.01986851, 0.02318572, 0.14186042, 0.0096727 , 0.02235251,\n",
       "       0.02032245, 0.02251129, 0.00742925, 0.02660816, 0.02328255,\n",
       "       0.00585369, 0.00752194, 0.0179913 , 0.00338755, 0.01363195,\n",
       "       0.0173404 , 0.01963741, 0.01915202, 0.01827338, 0.02258011,\n",
       "       0.01603749, 0.01502496, 0.01641252, 0.03154652, 0.0056824 ,\n",
       "       0.02296905, 0.00954763, 0.02385728, 0.03611472, 0.01345115,\n",
       "       0.0051739 , 0.02581928])"
      ]
     },
     "execution_count": 63,
     "metadata": {},
     "output_type": "execute_result"
    }
   ],
   "source": [
    "validator.best_estimator_.feature_importances_"
   ]
  },
  {
   "cell_type": "code",
   "execution_count": null,
   "metadata": {},
   "outputs": [],
   "source": []
  }
 ],
 "metadata": {
  "interpreter": {
   "hash": "876a901fa01740c9c1df21227f71a722e56ef49b97cfa216a6a824be51df36c9"
  },
  "kernelspec": {
   "display_name": "Python 3.9.10 64-bit (windows store)",
   "language": "python",
   "name": "python3"
  },
  "language_info": {
   "codemirror_mode": {
    "name": "ipython",
    "version": 3
   },
   "file_extension": ".py",
   "mimetype": "text/x-python",
   "name": "python",
   "nbconvert_exporter": "python",
   "pygments_lexer": "ipython3",
   "version": "3.9.10"
  },
  "orig_nbformat": 4
 },
 "nbformat": 4,
 "nbformat_minor": 2
}
