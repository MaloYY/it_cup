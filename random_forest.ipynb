{
 "cells": [
  {
   "cell_type": "code",
   "execution_count": 39,
   "metadata": {},
   "outputs": [],
   "source": [
    "import pandas as pd\n",
    "import numpy as np\n",
    "from pathlib import Path\n",
    "from sklearn.model_selection import GridSearchCV, StratifiedKFold\n",
    "from sklearn.model_selection import train_test_split\n",
    "from sklearn.impute import SimpleImputer\n",
    "from sklearn.preprocessing import StandardScaler\n",
    "from utils import save_config\n",
    "\n",
    "pd.set_option('display.max_rows', 150)\n",
    "ID = 1"
   ]
  },
  {
   "cell_type": "code",
   "execution_count": 40,
   "metadata": {},
   "outputs": [],
   "source": [
    "rand_seed = 42"
   ]
  },
  {
   "cell_type": "code",
   "execution_count": 41,
   "metadata": {},
   "outputs": [
    {
     "data": {
      "text/plain": [
       "WindowsPath('C:/Users/pavel/OneDrive/Desktop/it_cup')"
      ]
     },
     "execution_count": 41,
     "metadata": {},
     "output_type": "execute_result"
    }
   ],
   "source": [
    "prj_folder = Path('.').resolve()\n",
    "prj_folder"
   ]
  },
  {
   "cell_type": "code",
   "execution_count": 76,
   "metadata": {},
   "outputs": [],
   "source": [
    "data = pd.read_csv(prj_folder/'2. Cup_IT_2022_Датасет_Data_Science.csv')"
   ]
  },
  {
   "cell_type": "code",
   "execution_count": 77,
   "metadata": {},
   "outputs": [],
   "source": [
    "num_nans = data.isna().sum()\n",
    "num_total = data.shape[0]\n",
    "skip_rate = (num_nans / num_total * 100).sort_values(ascending=True)\n",
    "keys = skip_rate[skip_rate < 101].keys()"
   ]
  },
  {
   "cell_type": "code",
   "execution_count": 78,
   "metadata": {},
   "outputs": [],
   "source": [
    "data = data[keys]"
   ]
  },
  {
   "cell_type": "code",
   "execution_count": 79,
   "metadata": {},
   "outputs": [],
   "source": [
    "X = data.iloc[:, 2:]\n",
    "y = data.iloc[:, 1]\n",
    "\n",
    "X = SimpleImputer(missing_values=np.nan, strategy='constant', fill_value=-99999).fit_transform(X)\n",
    "#X = SimpleImputer(missing_values=np.nan, strategy='constant', fill_value=10000).fit_transform(X)\n",
    "#X = SimpleImputer(missing_values=np.nan, strategy='median').fit_transform(X)\n",
    "#X = StandardScaler().fit_transform(X)"
   ]
  },
  {
   "cell_type": "code",
   "execution_count": 46,
   "metadata": {},
   "outputs": [],
   "source": [
    "# from sklearn.cluster import KMeans\n",
    "# clusters = KMeans(random_state=rand_seed, n_clusters=40).fit_transform(X)\n",
    "# X = np.concatenate((X, clusters), axis=1)"
   ]
  },
  {
   "cell_type": "code",
   "execution_count": 47,
   "metadata": {},
   "outputs": [],
   "source": [
    "X_train, X_val, y_train, y_val = train_test_split(X, y, shuffle=False, train_size=0.7, random_state=42)"
   ]
  },
  {
   "cell_type": "code",
   "execution_count": 48,
   "metadata": {},
   "outputs": [
    {
     "name": "stderr",
     "output_type": "stream",
     "text": [
      "C:\\Users\\pavel\\AppData\\Local\\Packages\\PythonSoftwareFoundation.Python.3.9_qbz5n2kfra8p0\\LocalCache\\local-packages\\Python39\\site-packages\\sklearn\\metrics\\_classification.py:1308: UndefinedMetricWarning: Precision is ill-defined and being set to 0.0 due to no predicted samples. Use `zero_division` parameter to control this behavior.\n",
      "  _warn_prf(average, modifier, msg_start, len(result))\n"
     ]
    },
    {
     "data": {
      "text/plain": [
       "0.0"
      ]
     },
     "execution_count": 48,
     "metadata": {},
     "output_type": "execute_result"
    }
   ],
   "source": [
    "from sklearn.metrics import accuracy_score, f1_score, roc_auc_score, confusion_matrix, recall_score, precision_score\n",
    "precision_score(y, np.zeros_like(y))"
   ]
  },
  {
   "cell_type": "code",
   "execution_count": 67,
   "metadata": {},
   "outputs": [],
   "source": [
    "rf_config = {\n",
    "    'n_estimators': [200],\n",
    "    #'max_features': ['auto', 'sqrt', 'log2'],\n",
    "    'min_samples_leaf': [1],\n",
    "    'min_samples_split': [2],\n",
    "    'max_depth' : [6, 10, 12],\n",
    "    'criterion' :['entropy'],\n",
    "    'class_weight': ['balanced']\n",
    "}\n",
    "\n",
    "gb_config = {\n",
    "    'learning_rate': [0.1],\n",
    "    'n_estimators': [100],\n",
    "    'max_depth' : [3],\n",
    "    'subsample': [1]\n",
    "}\n",
    "\n",
    "gpc_config = {\n",
    "    #'C': [0.5],\n",
    "}\n",
    "\n",
    "scoring = ['accuracy', 'f1', 'roc_auc', 'precision', 'recall']"
   ]
  },
  {
   "cell_type": "code",
   "execution_count": 68,
   "metadata": {},
   "outputs": [],
   "source": [
    "from sklearn.ensemble import RandomForestClassifier, GradientBoostingClassifier\n",
    "from sklearn.linear_model import LogisticRegression\n",
    "from sklearn.svm import SVC\n",
    "from lightgbm import LGBMClassifier\n",
    "\n",
    "clf = RandomForestClassifier(random_state=rand_seed, n_jobs=8)\n",
    "#clf = GradientBoostingClassifier(random_state=rand_seed)\n",
    "#clf = LGBMClassifier(random_state=rand_seed, class_weight='balanced')\n",
    "#clf = LogisticRegression(random_state=rand_seed, class_weight={0: 0.1, 1: 0.9}, n_jobs=-1)\n",
    "#clf = SVC(kernel='rbf', class_weight='balanced',cache_size=1000)"
   ]
  },
  {
   "cell_type": "code",
   "execution_count": 69,
   "metadata": {},
   "outputs": [],
   "source": [
    "CUR_CONFIG = rf_config\n",
    "\n",
    "save_config(ID, CUR_CONFIG, clf)\n",
    "ID += 1\n",
    "\n",
    "cv = StratifiedKFold(n_splits=3, shuffle=True, random_state=rand_seed)\n",
    "#validator = GridSearchCV(clf, param_grid=CUR_CONFIG, scoring=scoring, n_jobs=4, cv=cv, refit='f1', verbose=2)"
   ]
  },
  {
   "cell_type": "code",
   "execution_count": 70,
   "metadata": {},
   "outputs": [
    {
     "data": {
      "text/plain": [
       "RandomForestClassifier(n_jobs=8, random_state=42)"
      ]
     },
     "execution_count": 70,
     "metadata": {},
     "output_type": "execute_result"
    }
   ],
   "source": [
    "clf.fit(X_train, y_train)"
   ]
  },
  {
   "cell_type": "code",
   "execution_count": 71,
   "metadata": {},
   "outputs": [
    {
     "name": "stdout",
     "output_type": "stream",
     "text": [
      "RandomForestClassifier(class_weight='balanced', criterion='entropy',\n",
      "                       max_depth=10, n_estimators=200, n_jobs=8,\n",
      "                       random_state=42)\n",
      "{'class_weight': 'balanced', 'criterion': 'entropy', 'max_depth': 10, 'min_samples_leaf': 1, 'min_samples_split': 2, 'n_estimators': 200}\n",
      "0.2947217165444282\n",
      "{'mean_fit_time': array([83.21224737, 65.86070689]), 'std_fit_time': array([ 0.78224806, 17.34816163]), 'mean_score_time': array([3.60303378, 2.4112188 ]), 'std_score_time': array([0.25291048, 2.09365237]), 'param_class_weight': masked_array(data=['balanced', 'balanced'],\n",
      "             mask=[False, False],\n",
      "       fill_value='?',\n",
      "            dtype=object), 'param_criterion': masked_array(data=['entropy', 'entropy'],\n",
      "             mask=[False, False],\n",
      "       fill_value='?',\n",
      "            dtype=object), 'param_max_depth': masked_array(data=[10, 12],\n",
      "             mask=[False, False],\n",
      "       fill_value='?',\n",
      "            dtype=object), 'param_min_samples_leaf': masked_array(data=[1, 1],\n",
      "             mask=[False, False],\n",
      "       fill_value='?',\n",
      "            dtype=object), 'param_min_samples_split': masked_array(data=[2, 2],\n",
      "             mask=[False, False],\n",
      "       fill_value='?',\n",
      "            dtype=object), 'param_n_estimators': masked_array(data=[200, 200],\n",
      "             mask=[False, False],\n",
      "       fill_value='?',\n",
      "            dtype=object), 'params': [{'class_weight': 'balanced', 'criterion': 'entropy', 'max_depth': 10, 'min_samples_leaf': 1, 'min_samples_split': 2, 'n_estimators': 200}, {'class_weight': 'balanced', 'criterion': 'entropy', 'max_depth': 12, 'min_samples_leaf': 1, 'min_samples_split': 2, 'n_estimators': 200}], 'split0_test_accuracy': array([0.76800787, 0.82728311]), 'split1_test_accuracy': array([0.76334328, 0.82217427]), 'split2_test_accuracy': array([0.75658438, 0.81884242]), 'mean_test_accuracy': array([0.76264517, 0.8227666 ]), 'std_test_accuracy': array([0.00468967, 0.00347126]), 'rank_test_accuracy': array([2, 1]), 'split0_test_f1': array([0.30338256, 0.2882176 ]), 'split1_test_f1': array([0.28876597, 0.26821624]), 'split2_test_f1': array([0.29201661, 0.2768841 ]), 'mean_test_f1': array([0.29472172, 0.27777265]), 'std_test_f1': array([0.00626628, 0.00818966]), 'rank_test_f1': array([1, 2]), 'split0_test_roc_auc': array([0.72475852, 0.71828739]), 'split1_test_roc_auc': array([0.7125694 , 0.70412726]), 'split2_test_roc_auc': array([0.70597507, 0.70064795]), 'mean_test_roc_auc': array([0.71443433, 0.70768753]), 'std_test_roc_auc': array([0.00778087, 0.00762863]), 'rank_test_roc_auc': array([1, 2]), 'split0_test_precision': array([0.21739724, 0.24625698]), 'split1_test_precision': array([0.20700027, 0.22893446]), 'split2_test_precision': array([0.20647351, 0.23146972]), 'mean_test_precision': array([0.21029034, 0.23555372]), 'std_test_precision': array([0.00502994, 0.00763879]), 'rank_test_precision': array([2, 1]), 'split0_test_recall': array([0.50189155, 0.34741488]), 'split1_test_recall': array([0.47730139, 0.32377049]), 'split2_test_recall': array([0.49858178, 0.34446896]), 'mean_test_recall': array([0.49259157, 0.33855144]), 'std_test_recall': array([0.0108959 , 0.01052068]), 'rank_test_recall': array([1, 2])}\n"
     ]
    }
   ],
   "source": [
    "print(validator.best_estimator_)\n",
    "print(validator.best_params_)\n",
    "print(validator.best_score_)\n",
    "print(validator.cv_results_)\n"
   ]
  },
  {
   "cell_type": "code",
   "execution_count": 72,
   "metadata": {},
   "outputs": [
    {
     "name": "stdout",
     "output_type": "stream",
     "text": [
      "m_acc:     [0.76264517 0.8227666 ]\n",
      "m_f1:      [0.29472172 0.27777265]\n",
      "m_rauc:    [0.71443433 0.70768753]\n",
      "m_prec:    [0.21029034 0.23555372]\n",
      "m_recall:  [0.49259157 0.33855144]\n"
     ]
    }
   ],
   "source": [
    "from utils import fine_print\n",
    "fine_print(validator.cv_results_)"
   ]
  },
  {
   "cell_type": "code",
   "execution_count": 73,
   "metadata": {},
   "outputs": [
    {
     "name": "stdout",
     "output_type": "stream",
     "text": [
      "[[0.70965567 0.29034433]\n",
      " [0.6761321  0.3238679 ]]\n",
      "[[0.70965567 0.29034433]\n",
      " [0.6761321  0.3238679 ]]\n"
     ]
    },
    {
     "data": {
      "text/plain": [
       "array([[31755,  5863],\n",
       "       [ 1595,  1306]], dtype=int64)"
      ]
     },
     "execution_count": 73,
     "metadata": {},
     "output_type": "execute_result"
    }
   ],
   "source": [
    "from sklearn.metrics import confusion_matrix\n",
    "preds = validator.predict_proba(X_val)\n",
    "\n",
    "print(preds[:2])\n",
    "\n",
    "preds[:, 0] -= 0.0\n",
    "preds[:, 1] += 0.0\n",
    "\n",
    "print(preds[:2])\n",
    "\n",
    "preds = np.argmax(preds, axis=-1)\n",
    "\n",
    "confusion_matrix(y_val, preds)"
   ]
  },
  {
   "cell_type": "code",
   "execution_count": 74,
   "metadata": {},
   "outputs": [
    {
     "name": "stdout",
     "output_type": "stream",
     "text": [
      "0.8159382018312397\n",
      "0.25938430983118177\n",
      "0.6471666753810587\n",
      "0.18217324591993306\n",
      "0.4501895897966219\n"
     ]
    }
   ],
   "source": [
    "print(accuracy_score(y_val, preds))\n",
    "print(f1_score(y_val, preds))\n",
    "print(roc_auc_score(y_val, preds))\n",
    "print(precision_score(y_val, preds))\n",
    "print(recall_score(y_val, preds))"
   ]
  },
  {
   "cell_type": "code",
   "execution_count": 75,
   "metadata": {},
   "outputs": [
    {
     "data": {
      "image/png": "[encoded data removed]",
      "text/plain": [
       "<Figure size 288x288 with 1 Axes>"
      ]
     },
     "metadata": {
      "needs_background": "light"
     },
     "output_type": "display_data"
    }
   ],
   "source": [
    "import matplotlib.pyplot as plt\n",
    "plt.matshow(pd.DataFrame(X).corr())\n",
    "plt.show()"
   ]
  },
  {
   "cell_type": "code",
   "execution_count": null,
   "metadata": {},
   "outputs": [],
   "source": []
  }
 ],
 "metadata": {
  "interpreter": {
   "hash": "876a901fa01740c9c1df21227f71a722e56ef49b97cfa216a6a824be51df36c9"
  },
  "kernelspec": {
   "display_name": "Python 3.9.10 64-bit (windows store)",
   "language": "python",
   "name": "python3"
  },
  "language_info": {
   "codemirror_mode": {
    "name": "ipython",
    "version": 3
   },
   "file_extension": ".py",
   "mimetype": "text/x-python",
   "name": "python",
   "nbconvert_exporter": "python",
   "pygments_lexer": "ipython3",
   "version": "3.9.10"
  },
  "orig_nbformat": 4
 },
 "nbformat": 4,
 "nbformat_minor": 2
}
