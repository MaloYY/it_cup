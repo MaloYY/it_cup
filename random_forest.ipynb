{
 "cells": [
  {
   "cell_type": "code",
   "execution_count": 1,
   "metadata": {},
   "outputs": [],
   "source": [
    "import pandas as pd\n",
    "import numpy as np\n",
    "from pathlib import Path\n",
    "from sklearn.ensemble import RandomForestClassifier\n",
    "from sklearn.model_selection import GridSearchCV, StratifiedKFold\n",
    "from sklearn.impute import SimpleImputer\n",
    "\n",
    "pd.set_option('display.max_rows', 150)"
   ]
  },
  {
   "cell_type": "code",
   "execution_count": 2,
   "metadata": {},
   "outputs": [],
   "source": [
    "rand_seed = 42"
   ]
  },
  {
   "cell_type": "code",
   "execution_count": 3,
   "metadata": {},
   "outputs": [
    {
     "data": {
      "text/plain": [
       "WindowsPath('C:/Users/pavel/OneDrive/Desktop/it_cup')"
      ]
     },
     "execution_count": 3,
     "metadata": {},
     "output_type": "execute_result"
    }
   ],
   "source": [
    "prj_folder = Path('.').resolve()\n",
    "prj_folder"
   ]
  },
  {
   "cell_type": "code",
   "execution_count": 4,
   "metadata": {},
   "outputs": [],
   "source": [
    "data = pd.read_csv(prj_folder/'2. Cup_IT_2022_Датасет_Data_Science.csv')"
   ]
  },
  {
   "cell_type": "code",
   "execution_count": 5,
   "metadata": {},
   "outputs": [],
   "source": [
    "X = data.iloc[:, 2:]\n",
    "y = data.iloc[:, 1]"
   ]
  },
  {
   "cell_type": "code",
   "execution_count": 6,
   "metadata": {},
   "outputs": [],
   "source": [
    "X = SimpleImputer(missing_values=np.nan, strategy='mean').fit_transform(X)"
   ]
  },
  {
   "cell_type": "code",
   "execution_count": 7,
   "metadata": {},
   "outputs": [],
   "source": [
    "config = {\n",
    "    #'n_estimators': [200, 500],\n",
    "    #'max_features': ['auto', 'sqrt', 'log2'],\n",
    "    #'max_depth' : [4,5,6,7,8],\n",
    "    #'criterion' :['gini', 'entropy'],\n",
    "    'class_weight': [None]#, {0: 122643, 1: 12418}]\n",
    "}\n",
    "\n",
    "scoring = ['accuracy', 'f1', 'roc_auc', 'precision', 'recall']"
   ]
  },
  {
   "cell_type": "code",
   "execution_count": 8,
   "metadata": {},
   "outputs": [],
   "source": [
    "clf = RandomForestClassifier(random_state=rand_seed, n_jobs=8)"
   ]
  },
  {
   "cell_type": "code",
   "execution_count": 9,
   "metadata": {},
   "outputs": [],
   "source": [
    "cv = StratifiedKFold(n_splits=3, shuffle=True, random_state=rand_seed)\n",
    "validator = GridSearchCV(clf, param_grid=config, scoring=scoring, n_jobs=4, cv=cv, refit='accuracy', verbose=2)"
   ]
  },
  {
   "cell_type": "code",
   "execution_count": 10,
   "metadata": {},
   "outputs": [
    {
     "name": "stdout",
     "output_type": "stream",
     "text": [
      "Fitting 3 folds for each of 1 candidates, totalling 3 fits\n"
     ]
    },
    {
     "data": {
      "text/plain": [
       "GridSearchCV(cv=StratifiedKFold(n_splits=3, random_state=42, shuffle=True),\n",
       "             estimator=RandomForestClassifier(n_jobs=8, random_state=42),\n",
       "             n_jobs=4, param_grid={'class_weight': [None]}, refit='accuracy',\n",
       "             scoring=['accuracy', 'f1', 'roc_auc', 'precision', 'recall'],\n",
       "             verbose=2)"
      ]
     },
     "execution_count": 10,
     "metadata": {},
     "output_type": "execute_result"
    }
   ],
   "source": [
    "validator.fit(X, y)"
   ]
  },
  {
   "cell_type": "code",
   "execution_count": 11,
   "metadata": {},
   "outputs": [
    {
     "name": "stdout",
     "output_type": "stream",
     "text": [
      "{'mean_fit_time': array([96.43836196]), 'std_fit_time': array([1.044345]), 'mean_score_time': array([1.837418]), 'std_score_time': array([0.41410081]), 'param_class_weight': masked_array(data=[None],\n",
      "             mask=[False],\n",
      "       fill_value='?',\n",
      "            dtype=object), 'params': [{'class_weight': None}], 'split0_test_accuracy': array([0.90793185]), 'split1_test_accuracy': array([0.90806308]), 'split2_test_accuracy': array([0.90764105]), 'mean_test_accuracy': array([0.90787866]), 'std_test_accuracy': array([0.00017635]), 'rank_test_accuracy': array([1]), 'split0_test_f1': array([0.007661]), 'split1_test_f1': array([0.00862275]), 'split2_test_f1': array([0.00621415]), 'mean_test_f1': array([0.0074993]), 'std_test_f1': array([0.00098993]), 'rank_test_f1': array([1]), 'split0_test_roc_auc': array([0.71735369]), 'split1_test_roc_auc': array([0.71440956]), 'split2_test_roc_auc': array([0.71588778]), 'mean_test_roc_auc': array([0.71588368]), 'std_test_roc_auc': array([0.00120194]), 'rank_test_roc_auc': array([1]), 'split0_test_precision': array([0.43243243]), 'split1_test_precision': array([0.5]), 'split2_test_precision': array([0.28888889]), 'mean_test_precision': array([0.40710711]), 'std_test_precision': array([0.08802653]), 'rank_test_precision': array([1]), 'split0_test_recall': array([0.00386473]), 'split1_test_recall': array([0.00434888]), 'split2_test_recall': array([0.00314086]), 'mean_test_recall': array([0.00378482]), 'std_test_recall': array([0.0004964]), 'rank_test_recall': array([1])}\n"
     ]
    }
   ],
   "source": [
    "#print(validator.best_estimator_)\n",
    "#print(validator.best_params_)\n",
    "#print(validator.best_score_)\n",
    "print(validator.cv_results_)\n"
   ]
  },
  {
   "cell_type": "code",
   "execution_count": 13,
   "metadata": {},
   "outputs": [
    {
     "name": "stdout",
     "output_type": "stream",
     "text": [
      "1111\n",
      "m_acc:     [0.90787866]\n",
      "m_f1:      [0.0074993]\n",
      "m_rauc:    [0.71588368]\n",
      "m_prec:    [0.40710711]\n",
      "m_recall:  [0.00378482]\n"
     ]
    }
   ],
   "source": [
    "from utils import fine_print\n",
    "fine_print(validator.cv_results_)"
   ]
  },
  {
   "cell_type": "code",
   "execution_count": null,
   "metadata": {},
   "outputs": [],
   "source": []
  }
 ],
 "metadata": {
  "interpreter": {
   "hash": "876a901fa01740c9c1df21227f71a722e56ef49b97cfa216a6a824be51df36c9"
  },
  "kernelspec": {
   "display_name": "Python 3.9.10 64-bit (windows store)",
   "language": "python",
   "name": "python3"
  },
  "language_info": {
   "codemirror_mode": {
    "name": "ipython",
    "version": 3
   },
   "file_extension": ".py",
   "mimetype": "text/x-python",
   "name": "python",
   "nbconvert_exporter": "python",
   "pygments_lexer": "ipython3",
   "version": "3.9.10"
  },
  "orig_nbformat": 4
 },
 "nbformat": 4,
 "nbformat_minor": 2
}
